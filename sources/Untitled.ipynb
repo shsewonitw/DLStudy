{
 "cells": [
  {
   "cell_type": "code",
   "execution_count": 5,
   "metadata": {},
   "outputs": [
    {
     "name": "stdout",
     "output_type": "stream",
     "text": [
      "기울기 a =  2.3\n",
      "y 절편 b =  79.0\n"
     ]
    }
   ],
   "source": [
    "import numpy as np\n",
    "\n",
    "x = [2,4,6,8]\n",
    "y = [81,93,91,97]\n",
    "\n",
    "mx = np.mean(x)\n",
    "my = np.mean(y)\n",
    "\n",
    "divisor = sum([(i - mx)**2 for i in x])\n",
    "\n",
    "def top(x, mx, y, my):\n",
    "    d = 0\n",
    "    for i in range(len(x)):\n",
    "        d += (x[i] - mx)*(y[i]-my)\n",
    "    return d\n",
    "\n",
    "dividend = top(x, mx, y, my)\n",
    "\n",
    "a = dividend / divisor\n",
    "\n",
    "b = my - (mx*a)\n",
    "\n",
    "print(\"기울기 a = \",a)\n",
    "print(\"y 절편 b = \", b)"
   ]
  },
  {
   "cell_type": "code",
   "execution_count": 7,
   "metadata": {},
   "outputs": [
    {
     "name": "stdout",
     "output_type": "stream",
     "text": [
      "공부시간 =  2, 실제 점수 =  81, 예측 점수 = 82\n",
      "공부시간 =  4, 실제 점수 =  93, 예측 점수 = 88\n",
      "공부시간 =  6, 실제 점수 =  91, 예측 점수 = 94\n",
      "공부시간 =  8, 실제 점수 =  97, 예측 점수 = 100\n",
      "mse 최종값 : 11.0\n"
     ]
    }
   ],
   "source": [
    "fake_a_b = [3, 76]\n",
    "\n",
    "data = [[2,81],[4,93],[6,91],[8,97]]\n",
    "x = [i[0] for i in data]\n",
    "y = [i[1] for i in data]\n",
    "\n",
    "def predict(x):\n",
    "    return fake_a_b[0]*x + fake_a_b[1]\n",
    "\n",
    "def mse(y, y_hat):\n",
    "    return ((y-y_hat)**2).mean()\n",
    "\n",
    "def mse_val(y, predict_result):\n",
    "    return mse(np.array(y), np.array(predict_result))\n",
    "\n",
    "predict_result = []\n",
    "\n",
    "for i in range(len(x)):\n",
    "    predict_result.append(predict(x[i]))\n",
    "    print(\"공부시간 =  %.f, 실제 점수 =  %.f, 예측 점수 = %.f\" % (x[i], y[i], predict(x[i])))\n",
    "    \n",
    "    \n",
    "print(\"mse 최종값 : \" + str(mse_val(predict_result,y)))"
   ]
  },
  {
   "cell_type": "code",
   "execution_count": null,
   "metadata": {},
   "outputs": [],
   "source": []
  }
 ],
 "metadata": {
  "kernelspec": {
   "display_name": "Python 3",
   "language": "python",
   "name": "python3"
  },
  "language_info": {
   "codemirror_mode": {
    "name": "ipython",
    "version": 3
   },
   "file_extension": ".py",
   "mimetype": "text/x-python",
   "name": "python",
   "nbconvert_exporter": "python",
   "pygments_lexer": "ipython3",
   "version": "3.7.9"
  }
 },
 "nbformat": 4,
 "nbformat_minor": 4
}
